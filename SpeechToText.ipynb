{
 "cells": [
  {
   "cell_type": "code",
   "execution_count": 2,
   "id": "a06c09f4",
   "metadata": {},
   "outputs": [
    {
     "name": "stdout",
     "output_type": "stream",
     "text": [
      " \n",
      "Terminating the exam\n"
     ]
    }
   ],
   "source": [
    "import speech_recognition as sr\n",
    "a=sr.Recognizer()\n",
    "with sr.Microphone() as source:\n",
    "    print (\" \")\n",
    "    audio=a.listen(source)\n",
    "    try:\n",
    "        text=a.recognize_google(audio)\n",
    "        print(\"Terminating the exam as you said:{}\".format(text))\n",
    "        \n",
    "    except:\n",
    "        print(\"Terminating the exam\")"
   ]
  },
  {
   "cell_type": "code",
   "execution_count": null,
   "id": "18201128",
   "metadata": {},
   "outputs": [],
   "source": []
  },
  {
   "cell_type": "code",
   "execution_count": null,
   "id": "a1c5ef42",
   "metadata": {},
   "outputs": [],
   "source": []
  }
 ],
 "metadata": {
  "kernelspec": {
   "display_name": "Python 3",
   "language": "python",
   "name": "python3"
  },
  "language_info": {
   "codemirror_mode": {
    "name": "ipython",
    "version": 3
   },
   "file_extension": ".py",
   "mimetype": "text/x-python",
   "name": "python",
   "nbconvert_exporter": "python",
   "pygments_lexer": "ipython3",
   "version": "3.8.8"
  }
 },
 "nbformat": 4,
 "nbformat_minor": 5
}
